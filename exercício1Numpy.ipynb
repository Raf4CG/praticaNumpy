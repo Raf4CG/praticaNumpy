{
  "cells": [
    {
      "cell_type": "markdown",
      "metadata": {
        "id": "view-in-github",
        "colab_type": "text"
      },
      "source": [
        "<a href=\"https://colab.research.google.com/github/Raf4CG/praticaNumpy/blob/main/exerc%C3%ADcio1Numpy.ipynb\" target=\"_parent\"><img src=\"https://colab.research.google.com/assets/colab-badge.svg\" alt=\"Open In Colab\"/></a>"
      ]
    },
    {
      "cell_type": "markdown",
      "metadata": {
        "id": "LCrCdaH7kfkL"
      },
      "source": [
        "# **Exercício 01 - Avaliar igualdade de vetores e seus elementos**\n",
        "\n",
        "## A partir de dois vetores x e y:\n",
        "\n",
        "1. Construir uma função/algoritimo para avaliar se dois vetores são iguais ou diferentes;\n",
        "2. Apresentar os elementos iguais dos vetores;\n",
        "3. Comparar elemento por elemento dos vetores e apresentar índices onde os valores são iguais nos dois vetores."
      ]
    },
    {
      "cell_type": "code",
      "execution_count": 32,
      "metadata": {
        "id": "SrJq7rkDj5QS"
      },
      "outputs": [],
      "source": [
        "import numpy as np"
      ]
    },
    {
      "cell_type": "code",
      "execution_count": 33,
      "metadata": {
        "id": "MBqCmT1AlS-3"
      },
      "outputs": [],
      "source": [
        "x = np.array([1.0, 3. , 2.6, 4.3, 7.7, 5.6])\n",
        "y = np.array([1. , 2.6 , 3. , 4. , 7. , 5.6])"
      ]
    },
    {
      "cell_type": "code",
      "execution_count": 40,
      "metadata": {
        "colab": {
          "base_uri": "https://localhost:8080/"
        },
        "id": "bSeOR6A6o4-N",
        "outputId": "ed4f4ca1-d47a-4c82-be20-00517d9211f0"
      },
      "outputs": [
        {
          "output_type": "stream",
          "name": "stdout",
          "text": [
            "Alguns elementos são iguais. São eles: \n",
            "1.0\n",
            "5.6\n",
            "--------------\n",
            "(array([0]),)\n",
            "[1.]\n",
            "(array([2]),)\n",
            "[3.]\n",
            "(array([1]),)\n",
            "[2.6]\n",
            "(array([], dtype=int64),)\n",
            "(array([], dtype=int64),)\n",
            "(array([5]),)\n",
            "[5.6]\n"
          ]
        }
      ],
      "source": [
        "cmp = x == y\n",
        "i = 0\n",
        "\n",
        "if(cmp.all()):\n",
        "  print('Todos os elementos são iguais')\n",
        "elif(cmp.any()):\n",
        "  print('Alguns elementos são iguais. São eles: ')\n",
        "  for e in cmp:\n",
        "    if(e):\n",
        "      print('%.1f'% x[i])\n",
        "    i += 1\n",
        "\n",
        "  print ('--------------')\n",
        "  for e in x:\n",
        "    j = np.where(e == y)\n",
        "    print(j)\n",
        "    if(j[0].size != 0):\n",
        "      print(y[j])\n",
        "else:\n",
        "  print('Todos os elementos são diferentes.')"
      ]
    },
    {
      "cell_type": "code",
      "execution_count": null,
      "metadata": {
        "id": "dtaTCGwKnb-g"
      },
      "outputs": [],
      "source": []
    }
  ],
  "metadata": {
    "colab": {
      "provenance": [],
      "authorship_tag": "ABX9TyOg/tDA8Dt1dEjNd2NVvC4T",
      "include_colab_link": true
    },
    "kernelspec": {
      "display_name": "Python 3",
      "name": "python3"
    },
    "language_info": {
      "name": "python"
    }
  },
  "nbformat": 4,
  "nbformat_minor": 0
}